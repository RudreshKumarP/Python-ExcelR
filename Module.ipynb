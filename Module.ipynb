{
  "nbformat": 4,
  "nbformat_minor": 0,
  "metadata": {
    "colab": {
      "name": "Untitled",
      "provenance": [],
      "authorship_tag": "ABX9TyMGRHg7ltdALL9SEd7ld/L9",
      "include_colab_link": true
    },
    "kernelspec": {
      "name": "python3",
      "display_name": "Python 3"
    },
    "language_info": {
      "name": "python"
    }
  },
  "cells": [
    {
      "cell_type": "markdown",
      "metadata": {
        "id": "view-in-github",
        "colab_type": "text"
      },
      "source": [
        "<a href=\"https://colab.research.google.com/github/RudreshKumarP/Python-ExcelR/blob/main/Module.ipynb\" target=\"_parent\"><img src=\"https://colab.research.google.com/assets/colab-badge.svg\" alt=\"Open In Colab\"/></a>"
      ]
    },
    {
      "cell_type": "markdown",
      "source": [
        "**1. Write a Python program to calculate number of days between two dates.**"
      ],
      "metadata": {
        "id": "fLbpmqec-SqB"
      }
    },
    {
      "cell_type": "code",
      "execution_count": 3,
      "metadata": {
        "colab": {
          "base_uri": "https://localhost:8080/"
        },
        "id": "xrIotu5Q-SK4",
        "outputId": "97a6d101-a4a2-4a42-d4da-066c9434c867"
      },
      "outputs": [
        {
          "output_type": "stream",
          "name": "stdout",
          "text": [
            "9 days, 0:00:00\n"
          ]
        }
      ],
      "source": [
        "from datetime import date\n",
        "\n",
        "first_day =date(2014, 7, 2)\n",
        "second_day =date(2014, 7, 11)\n",
        "\n",
        "diffrence =second_day - first_day\n",
        "print(diffrence)"
      ]
    }
  ]
}