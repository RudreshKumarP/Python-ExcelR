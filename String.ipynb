{
  "nbformat": 4,
  "nbformat_minor": 0,
  "metadata": {
    "colab": {
      "name": "Untitled8.ipynb",
      "provenance": [],
      "authorship_tag": "ABX9TyMR3CtgavSAewZli3kYjcrZ",
      "include_colab_link": true
    },
    "kernelspec": {
      "name": "python3",
      "display_name": "Python 3"
    },
    "language_info": {
      "name": "python"
    }
  },
  "cells": [
    {
      "cell_type": "markdown",
      "metadata": {
        "id": "view-in-github",
        "colab_type": "text"
      },
      "source": [
        "<a href=\"https://colab.research.google.com/github/RudreshKumarP/Python-ExcelR/blob/main/String.ipynb\" target=\"_parent\"><img src=\"https://colab.research.google.com/assets/colab-badge.svg\" alt=\"Open In Colab\"/></a>"
      ]
    },
    {
      "cell_type": "markdown",
      "source": [
        "**1. Write a Python program to concatenate all elements in a list into a string and return it.**"
      ],
      "metadata": {
        "id": "Mby3oQI0CzgN"
      }
    },
    {
      "cell_type": "code",
      "execution_count": 13,
      "metadata": {
        "colab": {
          "base_uri": "https://localhost:8080/",
          "height": 0
        },
        "id": "QR9xZCoqCzBl",
        "outputId": "5c248253-fdd3-4aca-a9e7-47163d235f5f"
      },
      "outputs": [
        {
          "output_type": "stream",
          "name": "stdout",
          "text": [
            "14422KGF2\n"
          ]
        }
      ],
      "source": [
        "def concatenate_list_data(list):\n",
        "  result=''\n",
        "  for element in list:\n",
        "    result +=str (element)\n",
        "  \n",
        "  return result\n",
        "\n",
        "print(concatenate_list_data([14,4,22,'KGF2']))"
      ]
    }
  ]
}