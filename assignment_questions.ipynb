{
  "nbformat": 4,
  "nbformat_minor": 0,
  "metadata": {
    "colab": {
      "name": "assignment_questions.ipynb",
      "provenance": [],
      "collapsed_sections": [],
      "include_colab_link": true
    },
    "kernelspec": {
      "name": "python3",
      "display_name": "Python 3"
    },
    "language_info": {
      "name": "python"
    }
  },
  "cells": [
    {
      "cell_type": "markdown",
      "metadata": {
        "id": "view-in-github",
        "colab_type": "text"
      },
      "source": [
        "<a href=\"https://colab.research.google.com/github/RudreshKumarP/Python-ExcelR/blob/main/assignment_questions.ipynb\" target=\"_parent\"><img src=\"https://colab.research.google.com/assets/colab-badge.svg\" alt=\"Open In Colab\"/></a>"
      ]
    },
    {
      "cell_type": "markdown",
      "source": [
        "**1. Write a Python program which accepts a sequence of comma-separated numbers from user and generate a list and a tuple with those numbers.**"
      ],
      "metadata": {
        "id": "v5-XiSZFArrF"
      }
    },
    {
      "cell_type": "code",
      "execution_count": null,
      "metadata": {
        "colab": {
          "base_uri": "https://localhost:8080/"
        },
        "id": "4tD7afgfej-C",
        "outputId": "6b7c3b22-ad75-499b-bf40-b047b19895b3"
      },
      "outputs": [
        {
          "output_type": "stream",
          "name": "stdout",
          "text": [
            "Input some comma separated  numbers : 3,5,7,23\n",
            "List :  ['3', '5', '7', '23']\n",
            "Tuple :  ('3', '5', '7', '23')\n"
          ]
        }
      ],
      "source": [
        "values = input(\"Input some comma separated  numbers : \")\n",
        "list = values.split(\",\")\n",
        "tuple = tuple(list)\n",
        "print('List : ',list)\n",
        "print('Tuple : ',tuple)"
      ]
    },
    {
      "cell_type": "markdown",
      "source": [
        "**2. Write a Python program to display the first and last colors from the following list.**"
      ],
      "metadata": {
        "id": "YeYkvcg1A01V"
      }
    },
    {
      "cell_type": "code",
      "source": [
        "color_list = [\"Red\",\"Green\",\"White\" ,\"Black\"]"
      ],
      "metadata": {
        "id": "G-qjbUN-fVZ0"
      },
      "execution_count": null,
      "outputs": []
    },
    {
      "cell_type": "code",
      "source": [
        "print(color_list[0],color_list[-1])"
      ],
      "metadata": {
        "colab": {
          "base_uri": "https://localhost:8080/"
        },
        "id": "qekmcx9RfXPF",
        "outputId": "a44027b4-73cc-4743-a1e1-4f742e1561af"
      },
      "execution_count": null,
      "outputs": [
        {
          "output_type": "stream",
          "name": "stdout",
          "text": [
            "Red Black\n"
          ]
        }
      ]
    },
    {
      "cell_type": "markdown",
      "source": [
        "**3. Write a Python program to print the even numbers from a given list.**"
      ],
      "metadata": {
        "id": "ck8AwShfA6zG"
      }
    },
    {
      "cell_type": "code",
      "source": [
        "a=[0,1,2,3,4,5,6,7,8,9]\n",
        "\n",
        "b = [num for num in a if  num % 2 == 0]\n",
        "\n",
        "print(\"Even numbers from given list are\",b)"
      ],
      "metadata": {
        "colab": {
          "base_uri": "https://localhost:8080/"
        },
        "id": "wvFBb5cHEslT",
        "outputId": "c37cd301-2f0d-4fd4-86c3-59696601301a"
      },
      "execution_count": 9,
      "outputs": [
        {
          "output_type": "stream",
          "name": "stdout",
          "text": [
            "Even numbers from given list are [0, 2, 4, 6, 8]\n"
          ]
        }
      ]
    },
    {
      "cell_type": "code",
      "source": [
        ""
      ],
      "metadata": {
        "id": "DTV8byJ7E0Zi"
      },
      "execution_count": null,
      "outputs": []
    }
  ]
}