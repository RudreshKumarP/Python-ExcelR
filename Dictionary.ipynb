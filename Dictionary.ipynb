{
  "nbformat": 4,
  "nbformat_minor": 0,
  "metadata": {
    "colab": {
      "name": "Untitled5.ipynb",
      "provenance": [],
      "collapsed_sections": [],
      "authorship_tag": "ABX9TyMxcciMhV7iA7EFGseVS3bI",
      "include_colab_link": true
    },
    "kernelspec": {
      "name": "python3",
      "display_name": "Python 3"
    },
    "language_info": {
      "name": "python"
    }
  },
  "cells": [
    {
      "cell_type": "markdown",
      "metadata": {
        "id": "view-in-github",
        "colab_type": "text"
      },
      "source": [
        "<a href=\"https://colab.research.google.com/github/RudreshKumarP/Python-ExcelR/blob/main/Dictionary.ipynb\" target=\"_parent\"><img src=\"https://colab.research.google.com/assets/colab-badge.svg\" alt=\"Open In Colab\"/></a>"
      ]
    },
    {
      "cell_type": "code",
      "execution_count": 1,
      "metadata": {
        "id": "Eq_iaC-QYmZ1"
      },
      "outputs": [],
      "source": [
        "dic1={1:10, 2:20}\n",
        "\n",
        "dic2={3:30, 4:40}\n",
        "\n",
        "dic3={5:50,6:60}"
      ]
    },
    {
      "cell_type": "code",
      "source": [
        "dic4={}"
      ],
      "metadata": {
        "id": "qqRpJhO-Zbjd"
      },
      "execution_count": 2,
      "outputs": []
    },
    {
      "cell_type": "code",
      "source": [
        "for d in (dic1, dic2, dic3):\n",
        "  dic4.update(d)\n",
        "print(dic4)"
      ],
      "metadata": {
        "colab": {
          "base_uri": "https://localhost:8080/"
        },
        "id": "p9f8h8C5ZH2u",
        "outputId": "908ea3d5-b16f-4d99-8766-6aca9c5ced52"
      },
      "execution_count": 3,
      "outputs": [
        {
          "output_type": "stream",
          "name": "stdout",
          "text": [
            "{1: 10, 2: 20, 3: 30, 4: 40, 5: 50, 6: 60}\n"
          ]
        }
      ]
    }
  ]
}