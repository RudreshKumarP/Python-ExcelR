{
  "nbformat": 4,
  "nbformat_minor": 0,
  "metadata": {
    "colab": {
      "name": "Untitled6.ipynb",
      "provenance": [],
      "collapsed_sections": [],
      "authorship_tag": "ABX9TyObBl2YL/t9b4PHNtoxfUW/",
      "include_colab_link": true
    },
    "kernelspec": {
      "name": "python3",
      "display_name": "Python 3"
    },
    "language_info": {
      "name": "python"
    }
  },
  "cells": [
    {
      "cell_type": "markdown",
      "metadata": {
        "id": "view-in-github",
        "colab_type": "text"
      },
      "source": [
        "<a href=\"https://colab.research.google.com/github/RudreshKumarP/Python-ExcelR/blob/main/Functions.ipynb\" target=\"_parent\"><img src=\"https://colab.research.google.com/assets/colab-badge.svg\" alt=\"Open In Colab\"/></a>"
      ]
    },
    {
      "cell_type": "markdown",
      "source": [
        "**1. Write a Python program to get the volume of a sphere with radius 6.**"
      ],
      "metadata": {
        "id": "jZmVEewmcJTu"
      }
    },
    {
      "cell_type": "code",
      "execution_count": 1,
      "metadata": {
        "colab": {
          "base_uri": "https://localhost:8080/"
        },
        "id": "EmLMsxYPaGjy",
        "outputId": "e44a8e84-8726-44ed-e6bb-0a7c9c18423b"
      },
      "outputs": [
        {
          "output_type": "stream",
          "name": "stdout",
          "text": [
            "The volume of the sphere is : 904.7779199999999\n"
          ]
        }
      ],
      "source": [
        "pi=3.14159\n",
        "r=6.0\n",
        "v=4.0/3.0*pi*r**3\n",
        "\n",
        "print('The volume of the sphere is :',v)"
      ]
    },
    {
      "cell_type": "markdown",
      "source": [
        "**2. Write a Python program to calculate the sum of three given numbers, if the values are equal then return three times of their sum hint: write User defined functions**"
      ],
      "metadata": {
        "id": "H_8RCUi3cMiW"
      }
    },
    {
      "cell_type": "code",
      "source": [
        "def sum_thrice(x, y, z):\n",
        "  sum = x + y + z\n",
        "\n",
        "  if x == y == z:\n",
        "    sum = sum * 3\n",
        "    return sum\n",
        "\n",
        "print(sum_thrice(5,5,5))"
      ],
      "metadata": {
        "colab": {
          "base_uri": "https://localhost:8080/"
        },
        "id": "moWDi1e_cMJR",
        "outputId": "a9765347-625f-4bea-c6db-f564c85f6e3d"
      },
      "execution_count": 3,
      "outputs": [
        {
          "output_type": "stream",
          "name": "stdout",
          "text": [
            "45\n"
          ]
        }
      ]
    },
    {
      "cell_type": "markdown",
      "source": [
        "**3. Write a Python program to count the number 4 in a given list.**"
      ],
      "metadata": {
        "id": "5oQ9aHIfeRzd"
      }
    },
    {
      "cell_type": "code",
      "source": [
        "List = [1,4,6,8,4,9,4]\n",
        "Search = 4"
      ],
      "metadata": {
        "id": "I385ZPhKeWoA"
      },
      "execution_count": 19,
      "outputs": []
    },
    {
      "cell_type": "code",
      "source": [
        "def searchOccurance(List, number):\n",
        "  count = 0\n",
        "  for i in List:\n",
        "    if(i == number):\n",
        "      count+=1\n",
        "  return count\n",
        "\n",
        "result = searchOccurance(List, Search)\n",
        "\n",
        "print('count is : ', result)"
      ],
      "metadata": {
        "colab": {
          "base_uri": "https://localhost:8080/"
        },
        "id": "mwqN3J7lgg9H",
        "outputId": "7b73e9e8-b5f2-4abb-9981-402a4ceeaab0"
      },
      "execution_count": 23,
      "outputs": [
        {
          "output_type": "stream",
          "name": "stdout",
          "text": [
            "count is :  3\n"
          ]
        }
      ]
    },
    {
      "cell_type": "markdown",
      "source": [
        "**4. Write a Python program to print all even numbers from a given numbers list in the same order and stop the printing if any numbers that come after 237 in the sequence. Go to the editorSample numbers list**"
      ],
      "metadata": {
        "id": "AcTZQjgmj1mT"
      }
    },
    {
      "cell_type": "code",
      "source": [
        "number = [399, 162, 758, 219, 918, 237, 412, 566, 826, 248, 866, 950, 626, 949, 687, 217,\n",
        "\n",
        "815, 67, 104, 58, 512, 24, 892, 894, 767, 553, 81, 379, 843, 831, 445, 742, 717,\n",
        "\n",
        "958,743, 527]"
      ],
      "metadata": {
        "id": "WHEoN8EVj4RA"
      },
      "execution_count": 27,
      "outputs": []
    },
    {
      "cell_type": "code",
      "source": [
        "for x in number:\n",
        "  if x == 237:\n",
        "    print(x)\n",
        "    break;\n",
        "  elif x % 2 == 0:\n",
        "    print(x)"
      ],
      "metadata": {
        "colab": {
          "base_uri": "https://localhost:8080/"
        },
        "id": "_pzN5eYikwgB",
        "outputId": "74b3caa3-bf71-4133-df37-5b46b3d70700"
      },
      "execution_count": 30,
      "outputs": [
        {
          "output_type": "stream",
          "name": "stdout",
          "text": [
            "162\n",
            "758\n",
            "918\n",
            "237\n"
          ]
        }
      ]
    },
    {
      "cell_type": "markdown",
      "source": [
        "**5. Write a Python program to find those numbers which are divisible by 7 and multiple of 5, between 1500 and 2700 (both included)**"
      ],
      "metadata": {
        "id": "teCl-j40xvow"
      }
    },
    {
      "cell_type": "code",
      "source": [
        "u_lim = 2700\n",
        "l_lim = 1500\n",
        "\n",
        "for i in range(l_lim,u_lim):\n",
        "  if i%7 == 0 and i%5 == 0:\n",
        "    print(i)"
      ],
      "metadata": {
        "colab": {
          "base_uri": "https://localhost:8080/"
        },
        "id": "FnOG8TWGy8sF",
        "outputId": "dc22870b-7d04-4600-d295-6051a3577a90"
      },
      "execution_count": 31,
      "outputs": [
        {
          "output_type": "stream",
          "name": "stdout",
          "text": [
            "1505\n",
            "1540\n",
            "1575\n",
            "1610\n",
            "1645\n",
            "1680\n",
            "1715\n",
            "1750\n",
            "1785\n",
            "1820\n",
            "1855\n",
            "1890\n",
            "1925\n",
            "1960\n",
            "1995\n",
            "2030\n",
            "2065\n",
            "2100\n",
            "2135\n",
            "2170\n",
            "2205\n",
            "2240\n",
            "2275\n",
            "2310\n",
            "2345\n",
            "2380\n",
            "2415\n",
            "2450\n",
            "2485\n",
            "2520\n",
            "2555\n",
            "2590\n",
            "2625\n",
            "2660\n",
            "2695\n"
          ]
        }
      ]
    },
    {
      "cell_type": "markdown",
      "source": [
        "**6. Write a Python program that prints all the numbers from 0 to 6 except 3 and 6**"
      ],
      "metadata": {
        "id": "7093IbW3zmD4"
      }
    },
    {
      "cell_type": "code",
      "source": [
        "for i in range(7):\n",
        "  if(i==3 or i == 6):\n",
        "    continue\n",
        "  print(i)"
      ],
      "metadata": {
        "colab": {
          "base_uri": "https://localhost:8080/"
        },
        "id": "BgM8WKNuzrwG",
        "outputId": "20199650-310e-464d-b69a-131a1ad5ab17"
      },
      "execution_count": 51,
      "outputs": [
        {
          "output_type": "stream",
          "name": "stdout",
          "text": [
            "0\n",
            "1\n",
            "2\n",
            "4\n",
            "5\n"
          ]
        }
      ]
    },
    {
      "cell_type": "markdown",
      "source": [
        "**7. Write a Python program to get the Fibonacci series between 0 to 50.**"
      ],
      "metadata": {
        "id": "3pVvZOO84L_V"
      }
    },
    {
      "cell_type": "code",
      "source": [
        "x=0\n",
        "y=1\n",
        "z=0\n",
        "while z<=50:\n",
        "  print(z)\n",
        "  x=y\n",
        "  y=z\n",
        "  z=x+y"
      ],
      "metadata": {
        "colab": {
          "base_uri": "https://localhost:8080/"
        },
        "id": "WBFHAts35ZN3",
        "outputId": "9b1a6c66-cd38-456e-c8cf-bc0e5b0b474d"
      },
      "execution_count": 53,
      "outputs": [
        {
          "output_type": "stream",
          "name": "stdout",
          "text": [
            "0\n",
            "1\n",
            "1\n",
            "2\n",
            "3\n",
            "5\n",
            "8\n",
            "13\n",
            "21\n",
            "34\n"
          ]
        }
      ]
    },
    {
      "cell_type": "markdown",
      "source": [
        "**8. Write a Python function that takes a list and returns a new list with unique elements of the first list**"
      ],
      "metadata": {
        "id": "Fydj48VG50Lg"
      }
    },
    {
      "cell_type": "code",
      "source": [
        "List = [1,2,3,3,3,3,4,5]\n",
        "Unique_List =[]\n",
        "\n",
        "for a in List:\n",
        "  if a not in Unique_List:\n",
        "    Unique_List.append(a)\n",
        "print(Unique_List)"
      ],
      "metadata": {
        "colab": {
          "base_uri": "https://localhost:8080/"
        },
        "id": "E4_0o0Wn6A4l",
        "outputId": "1481449f-0d1b-41fd-f429-4d3478ec0cbc"
      },
      "execution_count": 54,
      "outputs": [
        {
          "output_type": "stream",
          "name": "stdout",
          "text": [
            "[1, 2, 3, 4, 5]\n"
          ]
        }
      ]
    }
  ]
}