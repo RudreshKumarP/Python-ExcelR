{
  "nbformat": 4,
  "nbformat_minor": 0,
  "metadata": {
    "colab": {
      "name": "Untitled7.ipynb",
      "provenance": [],
      "authorship_tag": "ABX9TyNeyirDalye+Aotp58+1Rhv",
      "include_colab_link": true
    },
    "kernelspec": {
      "name": "python3",
      "display_name": "Python 3"
    },
    "language_info": {
      "name": "python"
    }
  },
  "cells": [
    {
      "cell_type": "markdown",
      "metadata": {
        "id": "view-in-github",
        "colab_type": "text"
      },
      "source": [
        "<a href=\"https://colab.research.google.com/github/RudreshKumarP/Python-ExcelR/blob/main/Series.ipynb\" target=\"_parent\"><img src=\"https://colab.research.google.com/assets/colab-badge.svg\" alt=\"Open In Colab\"/></a>"
      ]
    },
    {
      "cell_type": "markdown",
      "source": [
        "**1. Write a Python program to add, subtract, multiple and divide two Pandas Series.**"
      ],
      "metadata": {
        "id": "mltOxAgV_8o5"
      }
    },
    {
      "cell_type": "code",
      "execution_count": 2,
      "metadata": {
        "colab": {
          "base_uri": "https://localhost:8080/"
        },
        "id": "TYrK-P7U_111",
        "outputId": "554c394f-9b63-44ec-e04c-2481f949b7a3"
      },
      "outputs": [
        {
          "output_type": "stream",
          "name": "stdout",
          "text": [
            "Addition of two series is :\n",
            "0     3\n",
            "1     7\n",
            "2    11\n",
            "3    15\n",
            "4    19\n",
            "dtype: int64\n"
          ]
        }
      ],
      "source": [
        "import pandas as pd\n",
        "\n",
        "series1 = pd.Series([2, 4, 6, 8, 10])\n",
        "series2 = pd.Series([1, 3, 5, 7, 9])\n",
        "\n",
        "add = series1 + series2\n",
        "print(\"Addition of two series is :\")\n",
        "print(add)"
      ]
    },
    {
      "cell_type": "code",
      "source": [
        "import pandas as pd\n",
        "\n",
        "series1 = pd.Series([2, 4, 6, 8, 10])\n",
        "series2 = pd.Series([1, 3, 5, 7, 9])\n",
        "\n",
        "sub = series1 - series2\n",
        "print(\"Substraction of two series is :\")\n",
        "print(sub)"
      ],
      "metadata": {
        "colab": {
          "base_uri": "https://localhost:8080/"
        },
        "id": "zKCIlmVdBT2K",
        "outputId": "928242c6-b842-4a11-cefb-9fc8cd19e57e"
      },
      "execution_count": 4,
      "outputs": [
        {
          "output_type": "stream",
          "name": "stdout",
          "text": [
            "Substraction of two series is :\n",
            "0    1\n",
            "1    1\n",
            "2    1\n",
            "3    1\n",
            "4    1\n",
            "dtype: int64\n"
          ]
        }
      ]
    },
    {
      "cell_type": "code",
      "source": [
        "import pandas as pd\n",
        "\n",
        "series1 = pd.Series([2, 4, 6, 8, 10])\n",
        "series2 = pd.Series([1, 3, 5, 7, 9])\n",
        "\n",
        "mult = series1 * series2\n",
        "print(\"Multiplication of two series is :\")\n",
        "print(mult)"
      ],
      "metadata": {
        "colab": {
          "base_uri": "https://localhost:8080/"
        },
        "id": "1c6qH2DmBkX8",
        "outputId": "bf372f0d-cf77-4b79-8cd4-60d201c256a3"
      },
      "execution_count": 5,
      "outputs": [
        {
          "output_type": "stream",
          "name": "stdout",
          "text": [
            "Multiplication of two series is :\n",
            "0     2\n",
            "1    12\n",
            "2    30\n",
            "3    56\n",
            "4    90\n",
            "dtype: int64\n"
          ]
        }
      ]
    },
    {
      "cell_type": "code",
      "source": [
        "import pandas as pd\n",
        "\n",
        "series1 = pd.Series([2, 4, 6, 8, 10])\n",
        "series2 = pd.Series([1, 3, 5, 7, 9])\n",
        "\n",
        "div = series1 / series2\n",
        "print(\"Division of two series is :\")\n",
        "print(div)"
      ],
      "metadata": {
        "colab": {
          "base_uri": "https://localhost:8080/"
        },
        "id": "ESM6RZD2Bx5m",
        "outputId": "d1da2dd7-2d1f-4739-97d8-8095e8187b24"
      },
      "execution_count": 6,
      "outputs": [
        {
          "output_type": "stream",
          "name": "stdout",
          "text": [
            "Division of two series is :\n",
            "0    2.000000\n",
            "1    1.333333\n",
            "2    1.200000\n",
            "3    1.142857\n",
            "4    1.111111\n",
            "dtype: float64\n"
          ]
        }
      ]
    }
  ]
}